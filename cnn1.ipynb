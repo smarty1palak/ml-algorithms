{
 "cells": [
  {
   "cell_type": "code",
   "execution_count": 2,
   "metadata": {},
   "outputs": [],
   "source": [
    "#importing the required libraries\n",
    "import numpy as np\n",
    "import tensorflow as tf"
   ]
  },
  {
   "cell_type": "code",
   "execution_count": 3,
   "metadata": {},
   "outputs": [
    {
     "name": "stdout",
     "output_type": "stream",
     "text": [
      "Extracting MNIST_data/train-images-idx3-ubyte.gz\n",
      "Extracting MNIST_data/train-labels-idx1-ubyte.gz\n",
      "Extracting MNIST_data/t10k-images-idx3-ubyte.gz\n",
      "Extracting MNIST_data/t10k-labels-idx1-ubyte.gz\n"
     ]
    }
   ],
   "source": [
    "#importing data and storing \n",
    "from tensorflow.examples.tutorials.mnist import input_data\n",
    "mnist = input_data.read_data_sets(\"MNIST_data/\", one_hot=True)"
   ]
  },
  {
   "cell_type": "code",
   "execution_count": 4,
   "metadata": {},
   "outputs": [],
   "source": [
    "#defining weight and bias functions used to assign random weight and fixed bias for the initial forward propogation\n",
    "def weight(a):\n",
    "    return tf.Variable(tf.truncated_normal(a, stddev=0.1))\n",
    "\n",
    "def bias(a):\n",
    "    return tf.Variable(tf.constant(0.1, shape=a))"
   ]
  },
  {
   "cell_type": "code",
   "execution_count": 5,
   "metadata": {},
   "outputs": [],
   "source": [
    "#defining the convolution function\n",
    "def cnn(x):\n",
    "#conversion of input pixels in a 3d tensor\n",
    "    input_layer = tf.reshape(x, [-1,28,28,1])\n",
    "#passing this to the first layer using kernels of size 5*5 and 32 in number\n",
    "#a rectified linear unit is applied to prevent the derivative from vanishing \n",
    "    conv1 = tf.nn.relu(tf.nn.conv2d(input_layer, weight([5,5,1,32]), strides=[1, 1, 1, 1], padding='SAME')+bias([32]))\n",
    "# Pooling stage for first convolution which finds the maximum value from 2*2 kernel\n",
    "    pool_conv1 = tf.nn.max_pool(conv1, ksize=[1, 2, 2, 1], strides=[1, 2, 2, 1], padding='SAME')\n",
    "#2nd convolution layer    \n",
    "    conv2 = tf.nn.relu(tf.nn.conv2d(pool_conv1,weight([5,5,32,64]), strides=[1, 1, 1, 1], padding='SAME')+bias([64]))\n",
    "    pool_conv2 = tf.nn.max_pool(conv2, ksize=[1, 2, 2, 1], strides=[1, 2, 2, 1], padding='SAME')\n",
    "#reshaping it back to 2d image and passing through a fully connected layer    \n",
    "    pool_conv2_flat = tf.reshape(pool_conv2, [-1, 7*7*64])\n",
    "    fc1 = tf.nn.relu(tf.matmul(pool_conv2_flat, weight([7*7*64,1024])) + bias([1024]))\n",
    "#a dropout is applied after this to prevent overfitting of parameters due to strict training    \n",
    "    keep_prob = tf.placeholder(tf.float32)   #it defines the probability of keeping certain features\n",
    "    dropout = tf.nn.dropout(fc1, keep_prob)\n",
    "#the final output layer with 10 classes denoting 0-9    \n",
    "    y_conv = tf.matmul(dropout,weight([1024,10])) + bias([10])\n",
    "#the probability and final output is returned\n",
    "    return y_conv, keep_prob\n"
   ]
  },
  {
   "cell_type": "code",
   "execution_count": 6,
   "metadata": {},
   "outputs": [],
   "source": [
    "#initializing variables x(input features), labels\n",
    "x = tf.placeholder(tf.float32, [None, 784])\n",
    "label = tf.placeholder(tf.float32, [None, 10])\n",
    "y_conv, keep_prob = cnn(x)\n"
   ]
  },
  {
   "cell_type": "code",
   "execution_count": 7,
   "metadata": {},
   "outputs": [],
   "source": [
    "cost = tf.nn.softmax_cross_entropy_with_logits(labels=label, logits=y_conv)\n",
    "cost = tf.reduce_mean(cost)\n",
    "\n",
    "optimizer = tf.train.AdamOptimizer(0.001).minimize(cost)\n",
    "\n",
    "prediction = tf.equal(tf.argmax(y_conv, 1), tf.argmax(label, 1))\n",
    "prediction = tf.cast(prediction, tf.float32)\n",
    "accuracy = tf.reduce_mean(prediction)"
   ]
  },
  {
   "cell_type": "code",
   "execution_count": 9,
   "metadata": {},
   "outputs": [
    {
     "name": "stdout",
     "output_type": "stream",
     "text": [
      "test accuracy 0.9916\n"
     ]
    }
   ],
   "source": [
    "sess = tf.InteractiveSession()\n",
    "tf.global_variables_initializer().run()\n",
    "\n",
    "for i in range(10000):\n",
    "    batch_x, batch_y = mnist.train.next_batch(50)\n",
    "    sess.run(optimizer, feed_dict={x: batch_x, label: batch_y, keep_prob: 0.5})\n",
    "\n",
    "print('test accuracy %g' % accuracy.eval(feed_dict={\n",
    "    x: mnist.test.images, label: mnist.test.labels, keep_prob: 1.0}))\n",
    "\n"
   ]
  },
  {
   "cell_type": "code",
   "execution_count": null,
   "metadata": {},
   "outputs": [],
   "source": []
  }
 ],
 "metadata": {
  "kernelspec": {
   "display_name": "Python 2",
   "language": "python",
   "name": "python2"
  },
  "language_info": {
   "codemirror_mode": {
    "name": "ipython",
    "version": 2
   },
   "file_extension": ".py",
   "mimetype": "text/x-python",
   "name": "python",
   "nbconvert_exporter": "python",
   "pygments_lexer": "ipython2",
   "version": "2.7.14"
  }
 },
 "nbformat": 4,
 "nbformat_minor": 2
}
